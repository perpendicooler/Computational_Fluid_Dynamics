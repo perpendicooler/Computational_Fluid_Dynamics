{
  "cells": [
    {
      "cell_type": "markdown",
      "metadata": {
        "id": "view-in-github",
        "colab_type": "text"
      },
      "source": [
        "<a href=\"https://colab.research.google.com/github/perpendicooler/fiverr_client/blob/main/fiverr_client.ipynb\" target=\"_parent\"><img src=\"https://colab.research.google.com/assets/colab-badge.svg\" alt=\"Open In Colab\"/></a>"
      ]
    },
    {
      "cell_type": "markdown",
      "id": "0fee7bd1-447e-4211-a61c-702770b4c200",
      "metadata": {
        "id": "0fee7bd1-447e-4211-a61c-702770b4c200"
      },
      "source": [
        "# Exam 2 - Due Novemeber 30 at 1:00 PM\n",
        "***"
      ]
    },
    {
      "cell_type": "markdown",
      "id": "cedb43f2-73c1-48d1-a66e-2b0142a297da",
      "metadata": {
        "id": "cedb43f2-73c1-48d1-a66e-2b0142a297da"
      },
      "source": [
        "## Exam Rules:\n",
        "\n",
        "1. You must work on the exam individually. You cannot discuss the exam with your classmates or other people. If you have questions, please ask me.\n",
        "2. You can use the internet to help you. However, you cannot post the questions or ask for help direclty on any internet forum.\n",
        "3. If you use code you found on the internet, or used ChaptGPT or equivialent to generate code, then you must cite the code and explain the code line-by-line. No credit will be given for copied code without proper citations and explaination.\n",
        "4. Your jupyter notebook file must be turned in on the gradescope website before 1:00 PM on Novemeber 30, 2023. A 1 point dediction will be made for each minute late. If you are ill, or have special circumstances, please contact me before 11:59 PM on Nov 28 to make arrangements.\n",
        "***"
      ]
    },
    {
      "cell_type": "markdown",
      "id": "ddbd062a-084d-4b7b-8004-d59b3c4c9a4c",
      "metadata": {
        "id": "ddbd062a-084d-4b7b-8004-d59b3c4c9a4c"
      },
      "source": [
        "## Problem 1 (35 points):\n",
        "\n",
        "The catalytic oxidative dehydrogenation of 1-butane to form 1,3-butadiene (an important chemical used in the production of synthetic rubber) occurs in a PFR over a Bi-Mo catalyst with the following reactions:\n",
        "\n",
        "$$\n",
        "\\text{1-butuene} \\overset{k_1}{\\underset{k_2}{\\longleftrightarrow}} \\text{trans-2-butene}\\\\\n",
        "\\\\\n",
        "\\text{trans-2-butuene} \\overset{k_3}{\\longrightarrow} \\text{1,3-butadiene}\\\\\n",
        "$$\n",
        "\n",
        "All reactions are first order with the following set of rate constants (in units of $s^{-1}$).\n",
        "\n",
        "$k_1$ = 9.0\t$k_2$ = 6.0\t$k_3$ = 3.0\n",
        "\n",
        "Given that the initial concentration of 1-butene is 1000 mol/m^3, create a plot of the concentration of each species as a function of the reactor space-time between $\\tau$= 0 and $\\tau$ = 1 (you may neglect any change in the number of moles of gas that occur) using the following methods.\n",
        "\n",
        "**(A) 4th-order Runge-Kutta**\n",
        "\n",
        "**(B)** `scipy`\n",
        "\n",
        "Hint: Given A = 1-butene, B = trans-2-butene, and C = 1,3-butadiene the differential equations can be expressed by the following.\n",
        "\n",
        "$$\n",
        "\\begin{align}\n",
        "\\frac{dA}{d\\tau} &= -k_1 A + k_2 B\\\\\n",
        "\\\\\n",
        "\\frac{dB}{d\\tau} &= k_1 A - k_2 B - k_3 B\\\\\n",
        "\\\\\n",
        "\\frac{dC}{d\\tau} &= k_3 B\n",
        "\\end{align}\n",
        "$$"
      ]
    },
    {
      "cell_type": "code",
      "source": [
        "\n",
        "\n",
        "import numpy as np\n",
        "import matplotlib.pyplot as plt\n",
        "k1 = 9.0\n",
        "k2 = 6.0\n",
        "k3 = 3.0\n",
        "\n",
        "def catalytic(A, B, C, t):\n",
        "    dA_dt= -k1 * A\n",
        "    dB_dt = k1 * A - k2 * B -k3 * B\n",
        "    dC_dt = k2 * B - k3 * C\n",
        "    return dA_dt, dB_dt, dC_dt\n",
        "\n",
        "def RK_4System(A, B, C, t, h):\n",
        "    k1A, k1B, k1C = catalytic(A, B, C, t)\n",
        "    k2A, k2B, k2C = catalytic(A + 0.5 * h * k1A, B + 0.5 * h * k1B, C + 0.5 * h * k1C, t + 0.5 * h)\n",
        "    k3A, k3B, k3C = catalytic(A + 0.5 * h * k2A, B + 0.5 * h * k2B, C + 0.5 * h * k2C, t + 0.5 * h)\n",
        "    k4A, k4B, k4C = catalytic(A + h * k3A, B + h * k3B, C + h * k3C, t + h)\n",
        "\n",
        "    A_new = A + (h / 6.0) * (k1A + 2 * k2A + 2 * k3A + k4A)\n",
        "    B_new = B + (h / 6.0) * (k1B + 2 * k2B + 2 * k3B + k4B)\n",
        "    C_new = C + (h / 6.0) * (k1C + 2 * k2C + 2 * k3C + k4C)\n",
        "\n",
        "    return A_new, B_new, C_new\n",
        "\n",
        "\n",
        "t_values = np.linspace(0, 1, 100)\n",
        "h = 0.01\n",
        "A, B, C = (1000, 0.0, 0.0)\n",
        "A_values, B_values, C_values = [], [], []\n",
        "\n",
        "for t in t_values:\n",
        "    A_values.append(A)\n",
        "    B_values.append(B)\n",
        "    C_values.append(C)\n",
        "\n",
        "    A, B, C = RK_4System(A, B, C, t, h)\n",
        "\n",
        "plt.plot(t_values, A_values, \"r\", label='1-butene (A)')\n",
        "plt.plot(t_values, B_values, \"g\", label='trans-2-butene (B)')\n",
        "plt.plot(t_values, C_values, \"b\", label='1,3-butadiene (C)')\n",
        "plt.xlabel('A')\n",
        "plt.ylabel('B')\n",
        "plt.legend()\n",
        "plt.title('4th-order Runge-Kutta')\n",
        "plt.show()"
      ],
      "metadata": {
        "id": "VfaiOIkjdKAZ",
        "colab": {
          "base_uri": "https://localhost:8080/",
          "height": 472
        },
        "outputId": "0647d309-135a-4bcc-b18d-c3280bf6fbe6"
      },
      "id": "VfaiOIkjdKAZ",
      "execution_count": null,
      "outputs": [
        {
          "output_type": "display_data",
          "data": {
            "text/plain": [
              "<Figure size 640x480 with 1 Axes>"
            ],
            "image/png": "[encoded data removed]"
          },
          "metadata": {}
        }
      ]
    },
    {
      "cell_type": "markdown",
      "id": "605bcb18-b03c-4357-ab2e-4cbc108d679c",
      "metadata": {
        "id": "605bcb18-b03c-4357-ab2e-4cbc108d679c"
      },
      "source": [
        "***\n",
        "## Problem 2 (35 points):\n",
        "\n",
        "The velocity profile of a fluid flowing through a cylindrical pipe is dependent on the fluid's density, viscocity and the pressure applied to the system.\n",
        "\n",
        "Using the equations shown below, plot the steady-state velocity profile for each of the following cases: (Note all are reported in SI units):\n",
        "\n",
        "**Part (A)** Using the Finite Difference Method.\n",
        "\n",
        "**Part (B)** Using `scipy`.\n",
        "\n",
        "| Material | Viscosity ($\\mu$) | Denisty ($\\rho$) | Pipe $r$ | Pressure $\\Delta p$|\n",
        "| :- | :-: | :-: | :-: | :-: |\n",
        "|Water| 0.001 | 1000 | 0.01| 500|\n",
        "|Water| 0.001 | 1000 | 0.01| 2000|\n",
        "|Water| 0.001 | 1000 | 0.02| 2000|\n",
        "|Glycerol| 15 | 1260 | 0.01| 500|\n",
        "|Glycerol| 15 | 1260 | 0.01| 2000|\n",
        "|Glycerol| 15 | 1260 | 0.02| 2000|\n",
        "\n",
        "Governing Equation:\n",
        "\n",
        "$$\n",
        "\\mu\\left(\\frac{d^2v}{dr^2} + \\frac{1}{r} \\frac{dv}{dr}\\right) = -\\Delta p\n",
        "$$\n",
        "\n",
        "**Hint:** To solve this problem, use the no-slip boundary condition, which states that the velocity on the pipe wall is zero"
      ]
    },
    {
      "cell_type": "code",
      "source": [],
      "metadata": {
        "id": "7yf3uyKwloeW"
      },
      "id": "7yf3uyKwloeW",
      "execution_count": null,
      "outputs": []
    },
    {
      "cell_type": "markdown",
      "id": "581ae1f5-cf2b-4668-89a1-56b34097259e",
      "metadata": {
        "id": "581ae1f5-cf2b-4668-89a1-56b34097259e"
      },
      "source": [
        "***\n",
        "## Problem 3 (30 Points):\n",
        "\n",
        "In American Football, a field goal kicker needs to kick a football from the ground over a goal-post that is 3 m high.\n",
        "\n",
        "The system of differential equations that can descirbe a projectile in motion (assuming no wind resistance) is as follows.\n",
        "\n",
        "$$\n",
        "\\frac{d^2x}{dt} = 0 \\\\\n",
        "\\frac{d^2y}{dt} = -g\\\\\n",
        "$$\n",
        "\n",
        "Where $x$ is the distance the ball travels, and $y$ the height that the ball travels.\n",
        "\n",
        "Assume that the kicker can kick the ball perfectly straight at a velocity of 25 m/s.\n",
        "\n",
        "Determine what are the range of launch angles in which the kicker will make the field goal from 50 m away using...\n",
        "\n",
        "**(A) 4th Order Runge-Kutta**\n",
        "\n",
        "**(B)** `scipy`\n"
      ]
    },
    {
      "cell_type": "code",
      "execution_count": null,
      "id": "20f6cf7c-cce7-4def-bab8-eb3b98c88d9b",
      "metadata": {
        "colab": {
          "base_uri": "https://localhost:8080/",
          "height": 245
        },
        "id": "20f6cf7c-cce7-4def-bab8-eb3b98c88d9b",
        "outputId": "b07f2119-9921-4665-daa7-84f345b5f515"
      },
      "outputs": [
        {
          "output_type": "error",
          "ename": "NameError",
          "evalue": "ignored",
          "traceback": [
            "\u001b[0;31m---------------------------------------------------------------------------\u001b[0m",
            "\u001b[0;31mNameError\u001b[0m                                 Traceback (most recent call last)",
            "\u001b[0;32m<ipython-input-66-afd48333360b>\u001b[0m in \u001b[0;36m<cell line: 32>\u001b[0;34m()\u001b[0m\n\u001b[1;32m     30\u001b[0m \u001b[0;34m\u001b[0m\u001b[0m\n\u001b[1;32m     31\u001b[0m \u001b[0;31m# Plot the results\u001b[0m\u001b[0;34m\u001b[0m\u001b[0;34m\u001b[0m\u001b[0m\n\u001b[0;32m---> 32\u001b[0;31m \u001b[0mplt\u001b[0m\u001b[0;34m.\u001b[0m\u001b[0mplot\u001b[0m\u001b[0;34m(\u001b[0m\u001b[0mangles_for_goal_scipy\u001b[0m\u001b[0;34m,\u001b[0m \u001b[0mlabel\u001b[0m\u001b[0;34m=\u001b[0m\u001b[0;34m'Launch Angles (scipy)'\u001b[0m\u001b[0;34m)\u001b[0m\u001b[0;34m\u001b[0m\u001b[0;34m\u001b[0m\u001b[0m\n\u001b[0m\u001b[1;32m     33\u001b[0m \u001b[0mplt\u001b[0m\u001b[0;34m.\u001b[0m\u001b[0mxlabel\u001b[0m\u001b[0;34m(\u001b[0m\u001b[0;34m'Launch Angles (degrees)'\u001b[0m\u001b[0;34m)\u001b[0m\u001b[0;34m\u001b[0m\u001b[0;34m\u001b[0m\u001b[0m\n\u001b[1;32m     34\u001b[0m \u001b[0mplt\u001b[0m\u001b[0;34m.\u001b[0m\u001b[0mylabel\u001b[0m\u001b[0;34m(\u001b[0m\u001b[0;34m'Goal Made'\u001b[0m\u001b[0;34m)\u001b[0m\u001b[0;34m\u001b[0m\u001b[0;34m\u001b[0m\u001b[0m\n",
            "\u001b[0;31mNameError\u001b[0m: name 'plt' is not defined"
          ]
        }
      ],
      "source": [
        "from scipy.integrate import odeint\n",
        "\n",
        "  # Constants\n",
        "g = 9.8  # Acceleration due to gravity (m/s^2)\n",
        "v0 = 25.0  # Initial velocity (m/s)\n",
        "distance_to_goal = 50.0  # Distance to the goal (m)\n",
        "goal_height = 3.0  # Height of the goal post (m)\n",
        "\n",
        "# Function to define the system of differential equations for projectile motion\n",
        "def projectile_motion_scipy(u, t):\n",
        "    # u[0] = x, u[1] = y, u[2] = dx/dt, u[3] = dy/dt\n",
        "    dxdt = u[2]\n",
        "    dydt = u[3]\n",
        "    dvxdt = 0.0\n",
        "    dvydt = -g\n",
        "    return [dxdt, dydt, dvxdt, dvydt]\n",
        "\n",
        "# Lists to store results\n",
        "angles_for_goal_scipy = []\n",
        "\n",
        "# Range of launch angles to check\n",
        "for angle in range(1, 90):\n",
        "    u0 = [0.0, 0.0, v0 * np.cos(np.radians(angle)), v0 * np.sin(np.radians(angle))]\n",
        "    t_values = np.linspace(0, 10, 1000)  # Adjust the time values as needed\n",
        "    result = odeint(projectile_motion_scipy, u0, t_values)\n",
        "\n",
        "    # Check if the goal is made\n",
        "    if abs(result[-1, 1] - goal_height) < 0.1 and result[-1, 0] >= distance_to_goal:\n",
        "        angles_for_goal_scipy.append(angle)\n",
        "\n",
        "# Plot the results\n",
        "plt.plot(angles_for_goal_scipy, label='Launch Angles (scipy)')\n",
        "plt.xlabel('Launch Angles (degrees)')\n",
        "plt.ylabel('Goal Made')\n",
        "plt.title('Launch Angles for Making the Field Goal (scipy)')\n",
        "plt.legend()\n",
        "plt.show()\n"
      ]
    },
    {
      "cell_type": "code",
      "execution_count": null,
      "id": "42bd5994-bef2-4e7c-a1fe-9b484b243afe",
      "metadata": {
        "id": "42bd5994-bef2-4e7c-a1fe-9b484b243afe"
      },
      "outputs": [],
      "source": []
    }
  ],
  "metadata": {
    "kernelspec": {
      "display_name": "Python 3 (ipykernel)",
      "language": "python",
      "name": "python3"
    },
    "language_info": {
      "codemirror_mode": {
        "name": "ipython",
        "version": 3
      },
      "file_extension": ".py",
      "mimetype": "text/x-python",
      "name": "python",
      "nbconvert_exporter": "python",
      "pygments_lexer": "ipython3",
      "version": "3.11.0"
    },
    "colab": {
      "provenance": [],
      "include_colab_link": true
    }
  },
  "nbformat": 4,
  "nbformat_minor": 5
}